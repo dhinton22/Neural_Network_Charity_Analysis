{
 "cells": [
  {
   "cell_type": "code",
   "execution_count": 2,
   "id": "044d3a25",
   "metadata": {},
   "outputs": [
    {
     "data": {
      "text/html": [
       "<div>\n",
       "<style scoped>\n",
       "    .dataframe tbody tr th:only-of-type {\n",
       "        vertical-align: middle;\n",
       "    }\n",
       "\n",
       "    .dataframe tbody tr th {\n",
       "        vertical-align: top;\n",
       "    }\n",
       "\n",
       "    .dataframe thead th {\n",
       "        text-align: right;\n",
       "    }\n",
       "</style>\n",
       "<table border=\"1\" class=\"dataframe\">\n",
       "  <thead>\n",
       "    <tr style=\"text-align: right;\">\n",
       "      <th></th>\n",
       "      <th>EIN</th>\n",
       "      <th>NAME</th>\n",
       "      <th>APPLICATION_TYPE</th>\n",
       "      <th>AFFILIATION</th>\n",
       "      <th>CLASSIFICATION</th>\n",
       "      <th>USE_CASE</th>\n",
       "      <th>ORGANIZATION</th>\n",
       "      <th>STATUS</th>\n",
       "      <th>INCOME_AMT</th>\n",
       "      <th>SPECIAL_CONSIDERATIONS</th>\n",
       "      <th>ASK_AMT</th>\n",
       "      <th>IS_SUCCESSFUL</th>\n",
       "    </tr>\n",
       "  </thead>\n",
       "  <tbody>\n",
       "    <tr>\n",
       "      <th>0</th>\n",
       "      <td>10520599</td>\n",
       "      <td>BLUE KNIGHTS MOTORCYCLE CLUB</td>\n",
       "      <td>T10</td>\n",
       "      <td>Independent</td>\n",
       "      <td>C1000</td>\n",
       "      <td>ProductDev</td>\n",
       "      <td>Association</td>\n",
       "      <td>1</td>\n",
       "      <td>0</td>\n",
       "      <td>N</td>\n",
       "      <td>5000</td>\n",
       "      <td>1</td>\n",
       "    </tr>\n",
       "    <tr>\n",
       "      <th>1</th>\n",
       "      <td>10531628</td>\n",
       "      <td>AMERICAN CHESAPEAKE CLUB CHARITABLE TR</td>\n",
       "      <td>T3</td>\n",
       "      <td>Independent</td>\n",
       "      <td>C2000</td>\n",
       "      <td>Preservation</td>\n",
       "      <td>Co-operative</td>\n",
       "      <td>1</td>\n",
       "      <td>1-9999</td>\n",
       "      <td>N</td>\n",
       "      <td>108590</td>\n",
       "      <td>1</td>\n",
       "    </tr>\n",
       "    <tr>\n",
       "      <th>2</th>\n",
       "      <td>10547893</td>\n",
       "      <td>ST CLOUD PROFESSIONAL FIREFIGHTERS</td>\n",
       "      <td>T5</td>\n",
       "      <td>CompanySponsored</td>\n",
       "      <td>C3000</td>\n",
       "      <td>ProductDev</td>\n",
       "      <td>Association</td>\n",
       "      <td>1</td>\n",
       "      <td>0</td>\n",
       "      <td>N</td>\n",
       "      <td>5000</td>\n",
       "      <td>0</td>\n",
       "    </tr>\n",
       "    <tr>\n",
       "      <th>3</th>\n",
       "      <td>10553066</td>\n",
       "      <td>SOUTHSIDE ATHLETIC ASSOCIATION</td>\n",
       "      <td>T3</td>\n",
       "      <td>CompanySponsored</td>\n",
       "      <td>C2000</td>\n",
       "      <td>Preservation</td>\n",
       "      <td>Trust</td>\n",
       "      <td>1</td>\n",
       "      <td>10000-24999</td>\n",
       "      <td>N</td>\n",
       "      <td>6692</td>\n",
       "      <td>1</td>\n",
       "    </tr>\n",
       "    <tr>\n",
       "      <th>4</th>\n",
       "      <td>10556103</td>\n",
       "      <td>GENETIC RESEARCH INSTITUTE OF THE DESERT</td>\n",
       "      <td>T3</td>\n",
       "      <td>Independent</td>\n",
       "      <td>C1000</td>\n",
       "      <td>Heathcare</td>\n",
       "      <td>Trust</td>\n",
       "      <td>1</td>\n",
       "      <td>100000-499999</td>\n",
       "      <td>N</td>\n",
       "      <td>142590</td>\n",
       "      <td>1</td>\n",
       "    </tr>\n",
       "  </tbody>\n",
       "</table>\n",
       "</div>"
      ],
      "text/plain": [
       "        EIN                                      NAME APPLICATION_TYPE  \\\n",
       "0  10520599              BLUE KNIGHTS MOTORCYCLE CLUB              T10   \n",
       "1  10531628    AMERICAN CHESAPEAKE CLUB CHARITABLE TR               T3   \n",
       "2  10547893        ST CLOUD PROFESSIONAL FIREFIGHTERS               T5   \n",
       "3  10553066            SOUTHSIDE ATHLETIC ASSOCIATION               T3   \n",
       "4  10556103  GENETIC RESEARCH INSTITUTE OF THE DESERT               T3   \n",
       "\n",
       "        AFFILIATION CLASSIFICATION      USE_CASE  ORGANIZATION  STATUS  \\\n",
       "0       Independent          C1000    ProductDev   Association       1   \n",
       "1       Independent          C2000  Preservation  Co-operative       1   \n",
       "2  CompanySponsored          C3000    ProductDev   Association       1   \n",
       "3  CompanySponsored          C2000  Preservation         Trust       1   \n",
       "4       Independent          C1000     Heathcare         Trust       1   \n",
       "\n",
       "      INCOME_AMT SPECIAL_CONSIDERATIONS  ASK_AMT  IS_SUCCESSFUL  \n",
       "0              0                      N     5000              1  \n",
       "1         1-9999                      N   108590              1  \n",
       "2              0                      N     5000              0  \n",
       "3    10000-24999                      N     6692              1  \n",
       "4  100000-499999                      N   142590              1  "
      ]
     },
     "execution_count": 2,
     "metadata": {},
     "output_type": "execute_result"
    }
   ],
   "source": [
    "# Import our dependencies\n",
    "from sklearn.model_selection import train_test_split\n",
    "from sklearn.preprocessing import StandardScaler,OneHotEncoder\n",
    "import pandas as pd\n",
    "import tensorflow as tf\n",
    "\n",
    "#  Import and read the charity_data.csv.\n",
    "import pandas as pd \n",
    "application_df = pd.read_csv(\"charity_data.csv\")\n",
    "application_df.head()"
   ]
  },
  {
   "cell_type": "code",
   "execution_count": 3,
   "id": "4192f51c",
   "metadata": {},
   "outputs": [],
   "source": [
    "# Drop the non-beneficial ID columns, 'EIN' and 'NAME'.\n",
    "#  YOUR CODE GOES HERE\n",
    "application_df.drop(['EIN', 'NAME', 'STATUS', 'SPECIAL_CONSIDERATIONS', ], axis=1, inplace=True)\n"
   ]
  },
  {
   "cell_type": "code",
   "execution_count": 4,
   "id": "e0030950",
   "metadata": {},
   "outputs": [
    {
     "data": {
      "text/plain": [
       "APPLICATION_TYPE      17\n",
       "AFFILIATION            6\n",
       "CLASSIFICATION        71\n",
       "USE_CASE               5\n",
       "ORGANIZATION           4\n",
       "INCOME_AMT             9\n",
       "ASK_AMT             8747\n",
       "IS_SUCCESSFUL          2\n",
       "dtype: int64"
      ]
     },
     "execution_count": 4,
     "metadata": {},
     "output_type": "execute_result"
    }
   ],
   "source": [
    "# Determine the number of unique values in each column.\n",
    "#  YOUR CODE GOES HERE\n",
    "application_df.nunique()"
   ]
  },
  {
   "cell_type": "code",
   "execution_count": 5,
   "id": "d532d80e",
   "metadata": {},
   "outputs": [
    {
     "data": {
      "text/plain": [
       "T3     27037\n",
       "T4      1542\n",
       "T6      1216\n",
       "T5      1173\n",
       "T19     1065\n",
       "T8       737\n",
       "T7       725\n",
       "T10      528\n",
       "T9       156\n",
       "T13       66\n",
       "T12       27\n",
       "T2        16\n",
       "T25        3\n",
       "T14        3\n",
       "T29        2\n",
       "T15        2\n",
       "T17        1\n",
       "Name: APPLICATION_TYPE, dtype: int64"
      ]
     },
     "execution_count": 5,
     "metadata": {},
     "output_type": "execute_result"
    }
   ],
   "source": [
    "# Look at APPLICATION_TYPE value counts for binning\n",
    "# YOUR CODE GOES HERE\n",
    "application_types = application_df['APPLICATION_TYPE'].value_counts()\n",
    "application_types"
   ]
  },
  {
   "cell_type": "code",
   "execution_count": 6,
   "id": "648a261d",
   "metadata": {},
   "outputs": [
    {
     "data": {
      "text/plain": [
       "<AxesSubplot:ylabel='Density'>"
      ]
     },
     "execution_count": 6,
     "metadata": {},
     "output_type": "execute_result"
    },
    {
     "data": {
      "image/png": "[encoded data removed]",
      "text/plain": [
       "<Figure size 432x288 with 1 Axes>"
      ]
     },
     "metadata": {
      "needs_background": "light"
     },
     "output_type": "display_data"
    }
   ],
   "source": [
    "# Visualize the value counts of APPLICATION_TYPE\n",
    "# YOUR CODE GOES HERE\n",
    "application_types.plot.density()"
   ]
  },
  {
   "cell_type": "code",
   "execution_count": 7,
   "id": "1cbb3084",
   "metadata": {},
   "outputs": [
    {
     "data": {
      "text/plain": [
       "T3       27037\n",
       "T4        1542\n",
       "T6        1216\n",
       "T5        1173\n",
       "T19       1065\n",
       "T8         737\n",
       "T7         725\n",
       "T10        528\n",
       "Other      276\n",
       "Name: APPLICATION_TYPE, dtype: int64"
      ]
     },
     "execution_count": 7,
     "metadata": {},
     "output_type": "execute_result"
    }
   ],
   "source": [
    "# Determine which values to replace if counts are less than ...?\n",
    "#  YOUR CODE GOES HERE\n",
    "replace_application = list(application_types[application_types < 500].index)\n",
    "# Replace in dataframe\n",
    "for app in replace_application:\n",
    "    application_df.APPLICATION_TYPE = application_df.APPLICATION_TYPE.replace(app,\"Other\")\n",
    "    \n",
    "# Check to make sure binning was successful\n",
    "application_df.APPLICATION_TYPE.value_counts()"
   ]
  },
  {
   "cell_type": "code",
   "execution_count": 8,
   "id": "bde70af1",
   "metadata": {},
   "outputs": [
    {
     "data": {
      "text/plain": [
       "C1000    17326\n",
       "C2000     6074\n",
       "C1200     4837\n",
       "C3000     1918\n",
       "C2100     1883\n",
       "         ...  \n",
       "C1580        1\n",
       "C1820        1\n",
       "C1732        1\n",
       "C2380        1\n",
       "C1900        1\n",
       "Name: CLASSIFICATION, Length: 71, dtype: int64"
      ]
     },
     "execution_count": 8,
     "metadata": {},
     "output_type": "execute_result"
    }
   ],
   "source": [
    "# Look at CLASSIFICATION value counts for binning\n",
    "#  YOUR CODE GOES HERE\n",
    "classification_values = application_df['CLASSIFICATION'].value_counts()\n",
    "classification_values"
   ]
  },
  {
   "cell_type": "code",
   "execution_count": 9,
   "id": "23dc401f",
   "metadata": {},
   "outputs": [
    {
     "data": {
      "text/plain": [
       "<AxesSubplot:ylabel='Density'>"
      ]
     },
     "execution_count": 9,
     "metadata": {},
     "output_type": "execute_result"
    },
    {
     "data": {
      "image/png": "[encoded data removed]",
      "text/plain": [
       "<Figure size 432x288 with 1 Axes>"
      ]
     },
     "metadata": {
      "needs_background": "light"
     },
     "output_type": "display_data"
    }
   ],
   "source": [
    "\n",
    "# Visualize the value counts of CLASSIFICATION\n",
    "#  YOUR CODE GOES HERE\n",
    "classification_values.plot.density()"
   ]
  },
  {
   "cell_type": "code",
   "execution_count": 10,
   "id": "75157f55",
   "metadata": {},
   "outputs": [
    {
     "data": {
      "text/plain": [
       "C1000    17326\n",
       "C2000     6074\n",
       "C1200     4837\n",
       "C3000     1918\n",
       "C2100     1883\n",
       "Other     1484\n",
       "C7000      777\n",
       "Name: CLASSIFICATION, dtype: int64"
      ]
     },
     "execution_count": 10,
     "metadata": {},
     "output_type": "execute_result"
    }
   ],
   "source": [
    "# Determine which values to replace if counts are less than ..?\n",
    "#  YOUR CODE GOES HERE\n",
    "replace_class = list(classification_values[classification_values < 500].index)\n",
    "# Replace in dataframe\n",
    "for cls in replace_class:\n",
    "    application_df.CLASSIFICATION = application_df.CLASSIFICATION.replace(cls,\"Other\")\n",
    "    \n",
    "# Check to make sure binning was successful\n",
    "application_df.CLASSIFICATION.value_counts()"
   ]
  },
  {
   "cell_type": "code",
   "execution_count": 11,
   "id": "3130eee8",
   "metadata": {},
   "outputs": [
    {
     "data": {
      "text/plain": [
       "['APPLICATION_TYPE',\n",
       " 'AFFILIATION',\n",
       " 'CLASSIFICATION',\n",
       " 'USE_CASE',\n",
       " 'ORGANIZATION',\n",
       " 'INCOME_AMT']"
      ]
     },
     "execution_count": 11,
     "metadata": {},
     "output_type": "execute_result"
    }
   ],
   "source": [
    "# Generate our categorical variable lists\n",
    "#  YOUR CODE GOES HERE\n",
    "application_category = application_df.dtypes[application_df.dtypes == \"object\"].index.tolist()\n",
    "application_category"
   ]
  },
  {
   "cell_type": "code",
   "execution_count": 24,
   "id": "ae09b174",
   "metadata": {},
   "outputs": [
    {
     "ename": "KeyError",
     "evalue": "\"None of [Index(['APPLICATION_TYPE', 'AFFILIATION', 'CLASSIFICATION', 'USE_CASE',\\n       'ORGANIZATION', 'INCOME_AMT'],\\n      dtype='object')] are in the [columns]\"",
     "output_type": "error",
     "traceback": [
      "\u001b[1;31m---------------------------------------------------------------------------\u001b[0m",
      "\u001b[1;31mKeyError\u001b[0m                                  Traceback (most recent call last)",
      "\u001b[1;32m<ipython-input-24-3da81fe21b91>\u001b[0m in \u001b[0;36m<module>\u001b[1;34m\u001b[0m\n\u001b[0;32m      4\u001b[0m \u001b[1;31m# Fit and transform the OneHotEncoder using the categorical variable list\u001b[0m\u001b[1;33m\u001b[0m\u001b[1;33m\u001b[0m\u001b[1;33m\u001b[0m\u001b[0m\n\u001b[0;32m      5\u001b[0m \u001b[1;31m#  YOUR CODE GOES HERE\u001b[0m\u001b[1;33m\u001b[0m\u001b[1;33m\u001b[0m\u001b[1;33m\u001b[0m\u001b[0m\n\u001b[1;32m----> 6\u001b[1;33m \u001b[0mencode_df\u001b[0m \u001b[1;33m=\u001b[0m \u001b[0mpd\u001b[0m\u001b[1;33m.\u001b[0m\u001b[0mDataFrame\u001b[0m\u001b[1;33m(\u001b[0m\u001b[0menc\u001b[0m\u001b[1;33m.\u001b[0m\u001b[0mfit_transform\u001b[0m\u001b[1;33m(\u001b[0m\u001b[0mapplication_df\u001b[0m\u001b[1;33m[\u001b[0m\u001b[0mapplication_category\u001b[0m\u001b[1;33m]\u001b[0m\u001b[1;33m)\u001b[0m\u001b[1;33m)\u001b[0m\u001b[1;33m\u001b[0m\u001b[1;33m\u001b[0m\u001b[0m\n\u001b[0m\u001b[0;32m      7\u001b[0m \u001b[1;31m# Add the encoded variable names to the dataframe\u001b[0m\u001b[1;33m\u001b[0m\u001b[1;33m\u001b[0m\u001b[1;33m\u001b[0m\u001b[0m\n\u001b[0;32m      8\u001b[0m \u001b[0mencode_df\u001b[0m\u001b[1;33m.\u001b[0m\u001b[0mcolumns\u001b[0m \u001b[1;33m=\u001b[0m \u001b[0menc\u001b[0m\u001b[1;33m.\u001b[0m\u001b[0mget_feature_names_out\u001b[0m\u001b[1;33m(\u001b[0m\u001b[0mapp_category\u001b[0m\u001b[1;33m)\u001b[0m\u001b[1;33m\u001b[0m\u001b[1;33m\u001b[0m\u001b[0m\n",
      "\u001b[1;32m~\\Anaconda3\\envs\\PythonData\\lib\\site-packages\\pandas\\core\\frame.py\u001b[0m in \u001b[0;36m__getitem__\u001b[1;34m(self, key)\u001b[0m\n\u001b[0;32m   2910\u001b[0m             \u001b[1;32mif\u001b[0m \u001b[0mis_iterator\u001b[0m\u001b[1;33m(\u001b[0m\u001b[0mkey\u001b[0m\u001b[1;33m)\u001b[0m\u001b[1;33m:\u001b[0m\u001b[1;33m\u001b[0m\u001b[1;33m\u001b[0m\u001b[0m\n\u001b[0;32m   2911\u001b[0m                 \u001b[0mkey\u001b[0m \u001b[1;33m=\u001b[0m \u001b[0mlist\u001b[0m\u001b[1;33m(\u001b[0m\u001b[0mkey\u001b[0m\u001b[1;33m)\u001b[0m\u001b[1;33m\u001b[0m\u001b[1;33m\u001b[0m\u001b[0m\n\u001b[1;32m-> 2912\u001b[1;33m             \u001b[0mindexer\u001b[0m \u001b[1;33m=\u001b[0m \u001b[0mself\u001b[0m\u001b[1;33m.\u001b[0m\u001b[0mloc\u001b[0m\u001b[1;33m.\u001b[0m\u001b[0m_get_listlike_indexer\u001b[0m\u001b[1;33m(\u001b[0m\u001b[0mkey\u001b[0m\u001b[1;33m,\u001b[0m \u001b[0maxis\u001b[0m\u001b[1;33m=\u001b[0m\u001b[1;36m1\u001b[0m\u001b[1;33m,\u001b[0m \u001b[0mraise_missing\u001b[0m\u001b[1;33m=\u001b[0m\u001b[1;32mTrue\u001b[0m\u001b[1;33m)\u001b[0m\u001b[1;33m[\u001b[0m\u001b[1;36m1\u001b[0m\u001b[1;33m]\u001b[0m\u001b[1;33m\u001b[0m\u001b[1;33m\u001b[0m\u001b[0m\n\u001b[0m\u001b[0;32m   2913\u001b[0m \u001b[1;33m\u001b[0m\u001b[0m\n\u001b[0;32m   2914\u001b[0m         \u001b[1;31m# take() does not accept boolean indexers\u001b[0m\u001b[1;33m\u001b[0m\u001b[1;33m\u001b[0m\u001b[1;33m\u001b[0m\u001b[0m\n",
      "\u001b[1;32m~\\Anaconda3\\envs\\PythonData\\lib\\site-packages\\pandas\\core\\indexing.py\u001b[0m in \u001b[0;36m_get_listlike_indexer\u001b[1;34m(self, key, axis, raise_missing)\u001b[0m\n\u001b[0;32m   1252\u001b[0m             \u001b[0mkeyarr\u001b[0m\u001b[1;33m,\u001b[0m \u001b[0mindexer\u001b[0m\u001b[1;33m,\u001b[0m \u001b[0mnew_indexer\u001b[0m \u001b[1;33m=\u001b[0m \u001b[0max\u001b[0m\u001b[1;33m.\u001b[0m\u001b[0m_reindex_non_unique\u001b[0m\u001b[1;33m(\u001b[0m\u001b[0mkeyarr\u001b[0m\u001b[1;33m)\u001b[0m\u001b[1;33m\u001b[0m\u001b[1;33m\u001b[0m\u001b[0m\n\u001b[0;32m   1253\u001b[0m \u001b[1;33m\u001b[0m\u001b[0m\n\u001b[1;32m-> 1254\u001b[1;33m         \u001b[0mself\u001b[0m\u001b[1;33m.\u001b[0m\u001b[0m_validate_read_indexer\u001b[0m\u001b[1;33m(\u001b[0m\u001b[0mkeyarr\u001b[0m\u001b[1;33m,\u001b[0m \u001b[0mindexer\u001b[0m\u001b[1;33m,\u001b[0m \u001b[0maxis\u001b[0m\u001b[1;33m,\u001b[0m \u001b[0mraise_missing\u001b[0m\u001b[1;33m=\u001b[0m\u001b[0mraise_missing\u001b[0m\u001b[1;33m)\u001b[0m\u001b[1;33m\u001b[0m\u001b[1;33m\u001b[0m\u001b[0m\n\u001b[0m\u001b[0;32m   1255\u001b[0m         \u001b[1;32mreturn\u001b[0m \u001b[0mkeyarr\u001b[0m\u001b[1;33m,\u001b[0m \u001b[0mindexer\u001b[0m\u001b[1;33m\u001b[0m\u001b[1;33m\u001b[0m\u001b[0m\n\u001b[0;32m   1256\u001b[0m \u001b[1;33m\u001b[0m\u001b[0m\n",
      "\u001b[1;32m~\\Anaconda3\\envs\\PythonData\\lib\\site-packages\\pandas\\core\\indexing.py\u001b[0m in \u001b[0;36m_validate_read_indexer\u001b[1;34m(self, key, indexer, axis, raise_missing)\u001b[0m\n\u001b[0;32m   1296\u001b[0m             \u001b[1;32mif\u001b[0m \u001b[0mmissing\u001b[0m \u001b[1;33m==\u001b[0m \u001b[0mlen\u001b[0m\u001b[1;33m(\u001b[0m\u001b[0mindexer\u001b[0m\u001b[1;33m)\u001b[0m\u001b[1;33m:\u001b[0m\u001b[1;33m\u001b[0m\u001b[1;33m\u001b[0m\u001b[0m\n\u001b[0;32m   1297\u001b[0m                 \u001b[0maxis_name\u001b[0m \u001b[1;33m=\u001b[0m \u001b[0mself\u001b[0m\u001b[1;33m.\u001b[0m\u001b[0mobj\u001b[0m\u001b[1;33m.\u001b[0m\u001b[0m_get_axis_name\u001b[0m\u001b[1;33m(\u001b[0m\u001b[0maxis\u001b[0m\u001b[1;33m)\u001b[0m\u001b[1;33m\u001b[0m\u001b[1;33m\u001b[0m\u001b[0m\n\u001b[1;32m-> 1298\u001b[1;33m                 \u001b[1;32mraise\u001b[0m \u001b[0mKeyError\u001b[0m\u001b[1;33m(\u001b[0m\u001b[1;34mf\"None of [{key}] are in the [{axis_name}]\"\u001b[0m\u001b[1;33m)\u001b[0m\u001b[1;33m\u001b[0m\u001b[1;33m\u001b[0m\u001b[0m\n\u001b[0m\u001b[0;32m   1299\u001b[0m \u001b[1;33m\u001b[0m\u001b[0m\n\u001b[0;32m   1300\u001b[0m             \u001b[1;31m# We (temporarily) allow for some missing keys with .loc, except in\u001b[0m\u001b[1;33m\u001b[0m\u001b[1;33m\u001b[0m\u001b[1;33m\u001b[0m\u001b[0m\n",
      "\u001b[1;31mKeyError\u001b[0m: \"None of [Index(['APPLICATION_TYPE', 'AFFILIATION', 'CLASSIFICATION', 'USE_CASE',\\n       'ORGANIZATION', 'INCOME_AMT'],\\n      dtype='object')] are in the [columns]\""
     ]
    }
   ],
   "source": [
    "# Create a OneHotEncoder instance\n",
    "enc = OneHotEncoder(sparse=False)\n",
    "\n",
    "# Fit and transform the OneHotEncoder using the categorical variable list\n",
    "#  YOUR CODE GOES HERE\n",
    "encode_df = pd.DataFrame(enc.fit_transform(application_df[application_category]))\n",
    "# Add the encoded variable names to the dataframe\n",
    "encode_df.columns = enc.get_feature_names_out(app_category)\n",
    "encode_df.head()"
   ]
  },
  {
   "cell_type": "code",
   "execution_count": 25,
   "id": "a711dd87",
   "metadata": {},
   "outputs": [
    {
     "ename": "KeyError",
     "evalue": "\"['APPLICATION_TYPE' 'AFFILIATION' 'CLASSIFICATION' 'USE_CASE'\\n 'ORGANIZATION' 'INCOME_AMT'] not found in axis\"",
     "output_type": "error",
     "traceback": [
      "\u001b[1;31m---------------------------------------------------------------------------\u001b[0m",
      "\u001b[1;31mKeyError\u001b[0m                                  Traceback (most recent call last)",
      "\u001b[1;32m<ipython-input-25-df4e7bcccf68>\u001b[0m in \u001b[0;36m<module>\u001b[1;34m\u001b[0m\n\u001b[0;32m      2\u001b[0m \u001b[1;31m#  YOUR CODE GOES HERE\u001b[0m\u001b[1;33m\u001b[0m\u001b[1;33m\u001b[0m\u001b[1;33m\u001b[0m\u001b[0m\n\u001b[0;32m      3\u001b[0m \u001b[0mapplication_df\u001b[0m \u001b[1;33m=\u001b[0m \u001b[0mapplication_df\u001b[0m\u001b[1;33m.\u001b[0m\u001b[0mmerge\u001b[0m\u001b[1;33m(\u001b[0m\u001b[0mencode_df\u001b[0m\u001b[1;33m,\u001b[0m \u001b[0mleft_index\u001b[0m\u001b[1;33m=\u001b[0m\u001b[1;32mTrue\u001b[0m\u001b[1;33m,\u001b[0m\u001b[0mright_index\u001b[0m\u001b[1;33m=\u001b[0m\u001b[1;32mTrue\u001b[0m\u001b[1;33m)\u001b[0m\u001b[1;33m\u001b[0m\u001b[1;33m\u001b[0m\u001b[0m\n\u001b[1;32m----> 4\u001b[1;33m \u001b[0mapplication_df\u001b[0m \u001b[1;33m=\u001b[0m \u001b[0mapplication_df\u001b[0m\u001b[1;33m.\u001b[0m\u001b[0mdrop\u001b[0m\u001b[1;33m(\u001b[0m\u001b[0mcolumns\u001b[0m \u001b[1;33m=\u001b[0m \u001b[0mapplication_category\u001b[0m\u001b[1;33m)\u001b[0m\u001b[1;33m\u001b[0m\u001b[1;33m\u001b[0m\u001b[0m\n\u001b[0m\u001b[0;32m      5\u001b[0m \u001b[0mapplication_df\u001b[0m\u001b[1;33m.\u001b[0m\u001b[0mhead\u001b[0m\u001b[1;33m(\u001b[0m\u001b[1;33m)\u001b[0m\u001b[1;33m\u001b[0m\u001b[1;33m\u001b[0m\u001b[0m\n",
      "\u001b[1;32m~\\Anaconda3\\envs\\PythonData\\lib\\site-packages\\pandas\\core\\frame.py\u001b[0m in \u001b[0;36mdrop\u001b[1;34m(self, labels, axis, index, columns, level, inplace, errors)\u001b[0m\n\u001b[0;32m   4172\u001b[0m             \u001b[0mlevel\u001b[0m\u001b[1;33m=\u001b[0m\u001b[0mlevel\u001b[0m\u001b[1;33m,\u001b[0m\u001b[1;33m\u001b[0m\u001b[1;33m\u001b[0m\u001b[0m\n\u001b[0;32m   4173\u001b[0m             \u001b[0minplace\u001b[0m\u001b[1;33m=\u001b[0m\u001b[0minplace\u001b[0m\u001b[1;33m,\u001b[0m\u001b[1;33m\u001b[0m\u001b[1;33m\u001b[0m\u001b[0m\n\u001b[1;32m-> 4174\u001b[1;33m             \u001b[0merrors\u001b[0m\u001b[1;33m=\u001b[0m\u001b[0merrors\u001b[0m\u001b[1;33m,\u001b[0m\u001b[1;33m\u001b[0m\u001b[1;33m\u001b[0m\u001b[0m\n\u001b[0m\u001b[0;32m   4175\u001b[0m         )\n\u001b[0;32m   4176\u001b[0m \u001b[1;33m\u001b[0m\u001b[0m\n",
      "\u001b[1;32m~\\Anaconda3\\envs\\PythonData\\lib\\site-packages\\pandas\\core\\generic.py\u001b[0m in \u001b[0;36mdrop\u001b[1;34m(self, labels, axis, index, columns, level, inplace, errors)\u001b[0m\n\u001b[0;32m   3887\u001b[0m         \u001b[1;32mfor\u001b[0m \u001b[0maxis\u001b[0m\u001b[1;33m,\u001b[0m \u001b[0mlabels\u001b[0m \u001b[1;32min\u001b[0m \u001b[0maxes\u001b[0m\u001b[1;33m.\u001b[0m\u001b[0mitems\u001b[0m\u001b[1;33m(\u001b[0m\u001b[1;33m)\u001b[0m\u001b[1;33m:\u001b[0m\u001b[1;33m\u001b[0m\u001b[1;33m\u001b[0m\u001b[0m\n\u001b[0;32m   3888\u001b[0m             \u001b[1;32mif\u001b[0m \u001b[0mlabels\u001b[0m \u001b[1;32mis\u001b[0m \u001b[1;32mnot\u001b[0m \u001b[1;32mNone\u001b[0m\u001b[1;33m:\u001b[0m\u001b[1;33m\u001b[0m\u001b[1;33m\u001b[0m\u001b[0m\n\u001b[1;32m-> 3889\u001b[1;33m                 \u001b[0mobj\u001b[0m \u001b[1;33m=\u001b[0m \u001b[0mobj\u001b[0m\u001b[1;33m.\u001b[0m\u001b[0m_drop_axis\u001b[0m\u001b[1;33m(\u001b[0m\u001b[0mlabels\u001b[0m\u001b[1;33m,\u001b[0m \u001b[0maxis\u001b[0m\u001b[1;33m,\u001b[0m \u001b[0mlevel\u001b[0m\u001b[1;33m=\u001b[0m\u001b[0mlevel\u001b[0m\u001b[1;33m,\u001b[0m \u001b[0merrors\u001b[0m\u001b[1;33m=\u001b[0m\u001b[0merrors\u001b[0m\u001b[1;33m)\u001b[0m\u001b[1;33m\u001b[0m\u001b[1;33m\u001b[0m\u001b[0m\n\u001b[0m\u001b[0;32m   3890\u001b[0m \u001b[1;33m\u001b[0m\u001b[0m\n\u001b[0;32m   3891\u001b[0m         \u001b[1;32mif\u001b[0m \u001b[0minplace\u001b[0m\u001b[1;33m:\u001b[0m\u001b[1;33m\u001b[0m\u001b[1;33m\u001b[0m\u001b[0m\n",
      "\u001b[1;32m~\\Anaconda3\\envs\\PythonData\\lib\\site-packages\\pandas\\core\\generic.py\u001b[0m in \u001b[0;36m_drop_axis\u001b[1;34m(self, labels, axis, level, errors)\u001b[0m\n\u001b[0;32m   3940\u001b[0m                 \u001b[0mlabels_missing\u001b[0m \u001b[1;33m=\u001b[0m \u001b[1;33m(\u001b[0m\u001b[0maxis\u001b[0m\u001b[1;33m.\u001b[0m\u001b[0mget_indexer_for\u001b[0m\u001b[1;33m(\u001b[0m\u001b[0mlabels\u001b[0m\u001b[1;33m)\u001b[0m \u001b[1;33m==\u001b[0m \u001b[1;33m-\u001b[0m\u001b[1;36m1\u001b[0m\u001b[1;33m)\u001b[0m\u001b[1;33m.\u001b[0m\u001b[0many\u001b[0m\u001b[1;33m(\u001b[0m\u001b[1;33m)\u001b[0m\u001b[1;33m\u001b[0m\u001b[1;33m\u001b[0m\u001b[0m\n\u001b[0;32m   3941\u001b[0m                 \u001b[1;32mif\u001b[0m \u001b[0merrors\u001b[0m \u001b[1;33m==\u001b[0m \u001b[1;34m\"raise\"\u001b[0m \u001b[1;32mand\u001b[0m \u001b[0mlabels_missing\u001b[0m\u001b[1;33m:\u001b[0m\u001b[1;33m\u001b[0m\u001b[1;33m\u001b[0m\u001b[0m\n\u001b[1;32m-> 3942\u001b[1;33m                     \u001b[1;32mraise\u001b[0m \u001b[0mKeyError\u001b[0m\u001b[1;33m(\u001b[0m\u001b[1;34mf\"{labels} not found in axis\"\u001b[0m\u001b[1;33m)\u001b[0m\u001b[1;33m\u001b[0m\u001b[1;33m\u001b[0m\u001b[0m\n\u001b[0m\u001b[0;32m   3943\u001b[0m \u001b[1;33m\u001b[0m\u001b[0m\n\u001b[0;32m   3944\u001b[0m             \u001b[0mslicer\u001b[0m \u001b[1;33m=\u001b[0m \u001b[1;33m[\u001b[0m\u001b[0mslice\u001b[0m\u001b[1;33m(\u001b[0m\u001b[1;32mNone\u001b[0m\u001b[1;33m)\u001b[0m\u001b[1;33m]\u001b[0m \u001b[1;33m*\u001b[0m \u001b[0mself\u001b[0m\u001b[1;33m.\u001b[0m\u001b[0mndim\u001b[0m\u001b[1;33m\u001b[0m\u001b[1;33m\u001b[0m\u001b[0m\n",
      "\u001b[1;31mKeyError\u001b[0m: \"['APPLICATION_TYPE' 'AFFILIATION' 'CLASSIFICATION' 'USE_CASE'\\n 'ORGANIZATION' 'INCOME_AMT'] not found in axis\""
     ]
    }
   ],
   "source": [
    "# Merge one-hot encoded features and drop the originals\n",
    "#  YOUR CODE GOES HERE\n",
    "application_df = application_df.merge(encode_df, left_index=True,right_index=True)\n",
    "application_df = application_df.drop(columns = application_category)\n",
    "application_df.head()"
   ]
  },
  {
   "cell_type": "code",
   "execution_count": 26,
   "id": "c23e81c6",
   "metadata": {},
   "outputs": [],
   "source": [
    "# Split our preprocessed data into our features and target arrays\n",
    "#  YOUR CODE GOES HERE\n",
    "y = application_df['IS_SUCCESSFUL'].values\n",
    "X = application_df.drop(['IS_SUCCESSFUL'],1).values\n",
    "# Split the preprocessed data into a training and testing dataset\n",
    "#  YOUR CODE GOES HERE\n",
    "X_train, X_test, y_train, y_test = train_test_split(X, y, random_state=78)"
   ]
  },
  {
   "cell_type": "code",
   "execution_count": 27,
   "id": "bfd259e1",
   "metadata": {},
   "outputs": [],
   "source": [
    "# Create a StandardScaler instances\n",
    "scaler = StandardScaler()\n",
    "\n",
    "# Fit the StandardScaler\n",
    "X_scaler = scaler.fit(X_train)\n",
    "\n",
    "# Scale the data\n",
    "X_train_scaled = X_scaler.transform(X_train)\n",
    "X_test_scaled = X_scaler.transform(X_test)"
   ]
  },
  {
   "cell_type": "markdown",
   "id": "12ce4d05",
   "metadata": {},
   "source": [
    "# Deliverable 3: Compile, Train and Evaluate the Model\n",
    "Attempt 1\n",
    "Must be atleast better than values below. Loss: 0.6961942911148071, Accuracy: 0.5940524935722351\n",
    "\n",
    "Add third layer\n",
    "double number of neurons"
   ]
  },
  {
   "cell_type": "code",
   "execution_count": 28,
   "id": "ff757781",
   "metadata": {},
   "outputs": [],
   "source": [
    "# Import checkpoint dependencies\n",
    "import os\n",
    "from tensorflow.keras.callbacks import ModelCheckpoint\n",
    "\n",
    "# Define the checkpoint path and filenames\n",
    "os.makedirs(\"checkpoints/\",exist_ok=True)\n",
    "\n",
    "#saves every 5 minutes\n",
    "checkpoint_path = \"checkpoints/weights.{epoch:02d}.hdf5\"\n",
    "cp_callback= ModelCheckpoint(filepath=checkpoint_path,save_weights_only=True, save_freq=5)"
   ]
  },
  {
   "cell_type": "code",
   "execution_count": 29,
   "id": "de626174",
   "metadata": {},
   "outputs": [
    {
     "name": "stdout",
     "output_type": "stream",
     "text": [
      "Model: \"sequential\"\n",
      "_________________________________________________________________\n",
      "Layer (type)                 Output Shape              Param #   \n",
      "=================================================================\n",
      "dense (Dense)                (None, 16)                3232      \n",
      "_________________________________________________________________\n",
      "dense_1 (Dense)              (None, 10)                170       \n",
      "_________________________________________________________________\n",
      "dense_2 (Dense)              (None, 10)                110       \n",
      "_________________________________________________________________\n",
      "dense_3 (Dense)              (None, 1)                 11        \n",
      "=================================================================\n",
      "Total params: 3,523\n",
      "Trainable params: 3,523\n",
      "Non-trainable params: 0\n",
      "_________________________________________________________________\n"
     ]
    }
   ],
   "source": [
    "# Define the model - deep neural net, i.e., the number of input features and hidden nodes for each layer.\n",
    "#  YOUR CODE GOES HERE\n",
    "number_input_features = len(X_train[0])\n",
    "hidden_nodes_layer1 =  16\n",
    "hidden_nodes_layer2 = 10\n",
    "hidden_nodes_layer3 = 10\n",
    "nn1 = tf.keras.models.Sequential()\n",
    "\n",
    "# First hidden layer\n",
    "#  YOUR CODE GOES HERE\n",
    "nn1.add(tf.keras.layers.Dense(units=hidden_nodes_layer1, input_dim=number_input_features, activation=\"relu\"))\n",
    "# Second hidden layer\n",
    "#  YOUR CODE GOES HERE\n",
    "nn1.add(tf.keras.layers.Dense(units=hidden_nodes_layer2, activation=\"relu\"))\n",
    "#  YOUR CODE GOES HERE\n",
    "nn1.add(tf.keras.layers.Dense(units=hidden_nodes_layer3, activation=\"relu\"))\n",
    "# Output layer\n",
    "#  YOUR CODE GOES HERE\n",
    "nn1.add(tf.keras.layers.Dense(units=1, activation=\"sigmoid\"))\n",
    "# Check the structure of the model\n",
    "nn1.summary()"
   ]
  },
  {
   "cell_type": "code",
   "execution_count": 30,
   "id": "4049a0d0",
   "metadata": {},
   "outputs": [],
   "source": [
    "# Compile the model\n",
    "#  YOUR CODE GOES HERE\n",
    "nn1.compile(loss=\"binary_crossentropy\", optimizer=\"adam\", metrics=[\"accuracy\"])"
   ]
  },
  {
   "cell_type": "code",
   "execution_count": 31,
   "id": "681579f3",
   "metadata": {},
   "outputs": [],
   "source": [
    "# Create a callback that saves the model's weights every epoch\n",
    "cp_callback = ModelCheckpoint(\n",
    "    filepath=checkpoint_path,\n",
    "    verbose=1,\n",
    "    save_weights_only=True,\n",
    "    save_freq='epoch')"
   ]
  },
  {
   "cell_type": "code",
   "execution_count": 32,
   "id": "149d14fd",
   "metadata": {},
   "outputs": [
    {
     "name": "stdout",
     "output_type": "stream",
     "text": [
      "Epoch 1/50\n",
      "644/644 [==============================] - 1s 1ms/step - loss: 9919.3457 - accuracy: 0.4975 - val_loss: 2629.5652 - val_accuracy: 0.4690\n",
      "\n",
      "Epoch 00001: saving model to checkpoints\\weights.01.hdf5\n",
      "Epoch 2/50\n",
      "644/644 [==============================] - 1s 855us/step - loss: 10353.1055 - accuracy: 0.4968 - val_loss: 403.5624 - val_accuracy: 0.5055\n",
      "\n",
      "Epoch 00002: saving model to checkpoints\\weights.02.hdf5\n",
      "Epoch 3/50\n",
      "644/644 [==============================] - 1s 940us/step - loss: 931.1779 - accuracy: 0.5302 - val_loss: 1702.0760 - val_accuracy: 0.4690\n",
      "\n",
      "Epoch 00003: saving model to checkpoints\\weights.03.hdf5\n",
      "Epoch 4/50\n",
      "644/644 [==============================] - 1s 1ms/step - loss: 5251.7529 - accuracy: 0.5270 - val_loss: 16989.3926 - val_accuracy: 0.4690\n",
      "\n",
      "Epoch 00004: saving model to checkpoints\\weights.04.hdf5\n",
      "Epoch 5/50\n",
      "644/644 [==============================] - 1s 1ms/step - loss: 5890.8154 - accuracy: 0.5070 - val_loss: 17.1510 - val_accuracy: 0.5285\n",
      "\n",
      "Epoch 00005: saving model to checkpoints\\weights.05.hdf5\n",
      "Epoch 6/50\n",
      "644/644 [==============================] - 1s 1ms/step - loss: 2245.7993 - accuracy: 0.5025 - val_loss: 17427.7871 - val_accuracy: 0.5310\n",
      "\n",
      "Epoch 00006: saving model to checkpoints\\weights.06.hdf5\n",
      "Epoch 7/50\n",
      "644/644 [==============================] - 1s 1ms/step - loss: 6106.9375 - accuracy: 0.5235 - val_loss: 3613.0806 - val_accuracy: 0.5310\n",
      "\n",
      "Epoch 00007: saving model to checkpoints\\weights.07.hdf5\n",
      "Epoch 8/50\n",
      "644/644 [==============================] - 1s 885us/step - loss: 1888.3524 - accuracy: 0.5361 - val_loss: 2290.5828 - val_accuracy: 0.4690\n",
      "\n",
      "Epoch 00008: saving model to checkpoints\\weights.08.hdf5\n",
      "Epoch 9/50\n",
      "644/644 [==============================] - 1s 886us/step - loss: 1166.1128 - accuracy: 0.5290 - val_loss: 669.3447 - val_accuracy: 0.4700\n",
      "\n",
      "Epoch 00009: saving model to checkpoints\\weights.09.hdf5\n",
      "Epoch 10/50\n",
      "644/644 [==============================] - 1s 909us/step - loss: 1682.8193 - accuracy: 0.5208 - val_loss: 265.2933 - val_accuracy: 0.6175\n",
      "\n",
      "Epoch 00010: saving model to checkpoints\\weights.10.hdf5\n",
      "Epoch 11/50\n",
      "644/644 [==============================] - 1s 947us/step - loss: 2353.1782 - accuracy: 0.5491 - val_loss: 4001.3279 - val_accuracy: 0.4690\n",
      "\n",
      "Epoch 00011: saving model to checkpoints\\weights.11.hdf5\n",
      "Epoch 12/50\n",
      "644/644 [==============================] - 1s 854us/step - loss: 583.4003 - accuracy: 0.5573 - val_loss: 1959.4174 - val_accuracy: 0.5310\n",
      "\n",
      "Epoch 00012: saving model to checkpoints\\weights.12.hdf5\n",
      "Epoch 13/50\n",
      "644/644 [==============================] - 1s 902us/step - loss: 2413.4253 - accuracy: 0.5679 - val_loss: 336.4791 - val_accuracy: 0.6828\n",
      "\n",
      "Epoch 00013: saving model to checkpoints\\weights.13.hdf5\n",
      "Epoch 14/50\n",
      "644/644 [==============================] - 1s 889us/step - loss: 120.1134 - accuracy: 0.6267 - val_loss: 178.2714 - val_accuracy: 0.6319\n",
      "\n",
      "Epoch 00014: saving model to checkpoints\\weights.14.hdf5\n",
      "Epoch 15/50\n",
      "644/644 [==============================] - 1s 939us/step - loss: 1355.3877 - accuracy: 0.5239 - val_loss: 1034.8611 - val_accuracy: 0.4690\n",
      "\n",
      "Epoch 00015: saving model to checkpoints\\weights.15.hdf5\n",
      "Epoch 16/50\n",
      "644/644 [==============================] - 1s 941us/step - loss: 1716.5861 - accuracy: 0.5035 - val_loss: 1541.2917 - val_accuracy: 0.5310\n",
      "\n",
      "Epoch 00016: saving model to checkpoints\\weights.16.hdf5\n",
      "Epoch 17/50\n",
      "644/644 [==============================] - 1s 905us/step - loss: 594.9214 - accuracy: 0.5020 - val_loss: 302.3591 - val_accuracy: 0.5055\n",
      "\n",
      "Epoch 00017: saving model to checkpoints\\weights.17.hdf5\n",
      "Epoch 18/50\n",
      "644/644 [==============================] - 1s 877us/step - loss: 536.2570 - accuracy: 0.5170 - val_loss: 11.4140 - val_accuracy: 0.5289\n",
      "\n",
      "Epoch 00018: saving model to checkpoints\\weights.18.hdf5\n",
      "Epoch 19/50\n",
      "644/644 [==============================] - 1s 922us/step - loss: 127.6365 - accuracy: 0.5201 - val_loss: 568.0566 - val_accuracy: 0.4690\n",
      "\n",
      "Epoch 00019: saving model to checkpoints\\weights.19.hdf5\n",
      "Epoch 20/50\n",
      "644/644 [==============================] - 1s 889us/step - loss: 108.8731 - accuracy: 0.5121 - val_loss: 279.8805 - val_accuracy: 0.5310\n",
      "\n",
      "Epoch 00020: saving model to checkpoints\\weights.20.hdf5\n",
      "Epoch 21/50\n",
      "644/644 [==============================] - 1s 913us/step - loss: 281.3060 - accuracy: 0.5079 - val_loss: 628.5783 - val_accuracy: 0.5310\n",
      "\n",
      "Epoch 00021: saving model to checkpoints\\weights.21.hdf5\n",
      "Epoch 22/50\n",
      "644/644 [==============================] - 1s 872us/step - loss: 803.3876 - accuracy: 0.4874 - val_loss: 709.1227 - val_accuracy: 0.5310\n",
      "\n",
      "Epoch 00022: saving model to checkpoints\\weights.22.hdf5\n",
      "Epoch 23/50\n",
      "644/644 [==============================] - 1s 842us/step - loss: 271.0011 - accuracy: 0.5009 - val_loss: 164.5197 - val_accuracy: 0.5310\n",
      "\n",
      "Epoch 00023: saving model to checkpoints\\weights.23.hdf5\n",
      "Epoch 24/50\n",
      "644/644 [==============================] - 1s 862us/step - loss: 820.5725 - accuracy: 0.4883 - val_loss: 116.3599 - val_accuracy: 0.4690\n",
      "\n",
      "Epoch 00024: saving model to checkpoints\\weights.24.hdf5\n",
      "Epoch 25/50\n",
      "644/644 [==============================] - 1s 1ms/step - loss: 79.2817 - accuracy: 0.4917 - val_loss: 106.4861 - val_accuracy: 0.5310\n",
      "\n",
      "Epoch 00025: saving model to checkpoints\\weights.25.hdf5\n",
      "Epoch 26/50\n",
      "644/644 [==============================] - 1s 912us/step - loss: 43.7165 - accuracy: 0.5082 - val_loss: 171.7854 - val_accuracy: 0.4690\n",
      "\n",
      "Epoch 00026: saving model to checkpoints\\weights.26.hdf5\n",
      "Epoch 27/50\n",
      "644/644 [==============================] - 1s 866us/step - loss: 128.7163 - accuracy: 0.5145 - val_loss: 0.6917 - val_accuracy: 0.5310\n",
      "\n",
      "Epoch 00027: saving model to checkpoints\\weights.27.hdf5\n",
      "Epoch 28/50\n",
      "644/644 [==============================] - 1s 870us/step - loss: 0.6912 - accuracy: 0.5324 - val_loss: 0.6913 - val_accuracy: 0.5310\n",
      "\n",
      "Epoch 00028: saving model to checkpoints\\weights.28.hdf5\n",
      "Epoch 29/50\n",
      "644/644 [==============================] - 1s 895us/step - loss: 0.6911 - accuracy: 0.5324 - val_loss: 0.6912 - val_accuracy: 0.5310\n",
      "\n",
      "Epoch 00029: saving model to checkpoints\\weights.29.hdf5\n",
      "Epoch 30/50\n",
      "644/644 [==============================] - 1s 906us/step - loss: 0.6911 - accuracy: 0.5324 - val_loss: 0.6912 - val_accuracy: 0.5310\n",
      "\n",
      "Epoch 00030: saving model to checkpoints\\weights.30.hdf5\n",
      "Epoch 31/50\n",
      "644/644 [==============================] - 1s 898us/step - loss: 0.6911 - accuracy: 0.5324 - val_loss: 0.6912 - val_accuracy: 0.5310\n",
      "\n",
      "Epoch 00031: saving model to checkpoints\\weights.31.hdf5\n",
      "Epoch 32/50\n",
      "644/644 [==============================] - 1s 885us/step - loss: 0.6911 - accuracy: 0.5324 - val_loss: 0.6912 - val_accuracy: 0.5310\n",
      "\n",
      "Epoch 00032: saving model to checkpoints\\weights.32.hdf5\n",
      "Epoch 33/50\n",
      "644/644 [==============================] - 1s 927us/step - loss: 0.6911 - accuracy: 0.5324 - val_loss: 0.6912 - val_accuracy: 0.5310\n",
      "\n",
      "Epoch 00033: saving model to checkpoints\\weights.33.hdf5\n",
      "Epoch 34/50\n",
      "644/644 [==============================] - 1s 913us/step - loss: 0.6911 - accuracy: 0.5324 - val_loss: 0.6912 - val_accuracy: 0.5310\n",
      "\n",
      "Epoch 00034: saving model to checkpoints\\weights.34.hdf5\n",
      "Epoch 35/50\n",
      "644/644 [==============================] - 1s 899us/step - loss: 0.6911 - accuracy: 0.5324 - val_loss: 0.6912 - val_accuracy: 0.5310\n",
      "\n",
      "Epoch 00035: saving model to checkpoints\\weights.35.hdf5\n",
      "Epoch 36/50\n",
      "644/644 [==============================] - 1s 920us/step - loss: 0.6911 - accuracy: 0.5324 - val_loss: 0.6912 - val_accuracy: 0.5310\n",
      "\n",
      "Epoch 00036: saving model to checkpoints\\weights.36.hdf5\n",
      "Epoch 37/50\n",
      "644/644 [==============================] - 1s 901us/step - loss: 0.6911 - accuracy: 0.5324 - val_loss: 0.6913 - val_accuracy: 0.5310\n",
      "\n",
      "Epoch 00037: saving model to checkpoints\\weights.37.hdf5\n",
      "Epoch 38/50\n",
      "644/644 [==============================] - 1s 912us/step - loss: 0.6911 - accuracy: 0.5324 - val_loss: 0.6912 - val_accuracy: 0.5310\n",
      "\n",
      "Epoch 00038: saving model to checkpoints\\weights.38.hdf5\n",
      "Epoch 39/50\n",
      "644/644 [==============================] - 1s 1ms/step - loss: 0.6911 - accuracy: 0.5324 - val_loss: 0.6912 - val_accuracy: 0.5310\n",
      "\n",
      "Epoch 00039: saving model to checkpoints\\weights.39.hdf5\n",
      "Epoch 40/50\n",
      "644/644 [==============================] - 1s 914us/step - loss: 0.6911 - accuracy: 0.5324 - val_loss: 0.6912 - val_accuracy: 0.5310\n",
      "\n",
      "Epoch 00040: saving model to checkpoints\\weights.40.hdf5\n",
      "Epoch 41/50\n"
     ]
    },
    {
     "name": "stdout",
     "output_type": "stream",
     "text": [
      "644/644 [==============================] - 1s 885us/step - loss: 0.6911 - accuracy: 0.5324 - val_loss: 0.6912 - val_accuracy: 0.5310\n",
      "\n",
      "Epoch 00041: saving model to checkpoints\\weights.41.hdf5\n",
      "Epoch 42/50\n",
      "644/644 [==============================] - 1s 859us/step - loss: 0.6911 - accuracy: 0.5324 - val_loss: 0.6912 - val_accuracy: 0.5310\n",
      "\n",
      "Epoch 00042: saving model to checkpoints\\weights.42.hdf5\n",
      "Epoch 43/50\n",
      "644/644 [==============================] - 1s 842us/step - loss: 0.6911 - accuracy: 0.5324 - val_loss: 0.6912 - val_accuracy: 0.5310\n",
      "\n",
      "Epoch 00043: saving model to checkpoints\\weights.43.hdf5\n",
      "Epoch 44/50\n",
      "644/644 [==============================] - 1s 846us/step - loss: 0.6911 - accuracy: 0.5324 - val_loss: 0.6912 - val_accuracy: 0.5310\n",
      "\n",
      "Epoch 00044: saving model to checkpoints\\weights.44.hdf5\n",
      "Epoch 45/50\n",
      "644/644 [==============================] - 1s 857us/step - loss: 0.6911 - accuracy: 0.5324 - val_loss: 0.6912 - val_accuracy: 0.5310\n",
      "\n",
      "Epoch 00045: saving model to checkpoints\\weights.45.hdf5\n",
      "Epoch 46/50\n",
      "644/644 [==============================] - 1s 922us/step - loss: 0.6911 - accuracy: 0.5324 - val_loss: 0.6913 - val_accuracy: 0.5310\n",
      "\n",
      "Epoch 00046: saving model to checkpoints\\weights.46.hdf5\n",
      "Epoch 47/50\n",
      "644/644 [==============================] - 1s 933us/step - loss: 0.6911 - accuracy: 0.5324 - val_loss: 0.6912 - val_accuracy: 0.5310\n",
      "\n",
      "Epoch 00047: saving model to checkpoints\\weights.47.hdf5\n",
      "Epoch 48/50\n",
      "644/644 [==============================] - 1s 861us/step - loss: 0.6911 - accuracy: 0.5324 - val_loss: 0.6912 - val_accuracy: 0.5310\n",
      "\n",
      "Epoch 00048: saving model to checkpoints\\weights.48.hdf5\n",
      "Epoch 49/50\n",
      "644/644 [==============================] - 1s 871us/step - loss: 0.6911 - accuracy: 0.5324 - val_loss: 0.6912 - val_accuracy: 0.5310\n",
      "\n",
      "Epoch 00049: saving model to checkpoints\\weights.49.hdf5\n",
      "Epoch 50/50\n",
      "644/644 [==============================] - 1s 1ms/step - loss: 0.6911 - accuracy: 0.5324 - val_loss: 0.6912 - val_accuracy: 0.5310\n",
      "\n",
      "Epoch 00050: saving model to checkpoints\\weights.50.hdf5\n"
     ]
    }
   ],
   "source": [
    "# Train the model\n",
    "#  YOUR CODE GOES HERE\n",
    "fit_mod = nn1.fit(\n",
    "    X_train, y_train, epochs=50, callbacks=[cp_callback], validation_split=0.2\n",
    ")"
   ]
  },
  {
   "cell_type": "code",
   "execution_count": 33,
   "id": "215d0a27",
   "metadata": {},
   "outputs": [
    {
     "name": "stdout",
     "output_type": "stream",
     "text": [
      "268/268 - 0s - loss: 0.6637 - accuracy: 0.5670\n",
      "Loss: 0.663719654083252, Accuracy: 0.5669971108436584\n"
     ]
    }
   ],
   "source": [
    "# Evaluate the model using the test data\n",
    "model_loss, model_accuracy = nn1.evaluate(X_test_scaled,y_test,verbose=2)\n",
    "print(f\"Loss: {model_loss}, Accuracy: {model_accuracy}\")"
   ]
  },
  {
   "cell_type": "code",
   "execution_count": 34,
   "id": "d655d235",
   "metadata": {},
   "outputs": [],
   "source": [
    "nn1.save('AlphabetSoupCharity-opt1.h5')"
   ]
  },
  {
   "cell_type": "code",
   "execution_count": 35,
   "id": "dd790704",
   "metadata": {},
   "outputs": [
    {
     "data": {
      "text/plain": [
       "<AxesSubplot:>"
      ]
     },
     "execution_count": 35,
     "metadata": {},
     "output_type": "execute_result"
    },
    {
     "data": {
      "image/png": "[encoded data removed]",
      "text/plain": [
       "<Figure size 432x288 with 1 Axes>"
      ]
     },
     "metadata": {
      "needs_background": "light"
     },
     "output_type": "display_data"
    }
   ],
   "source": [
    "# Create a DataFrame containing training history\n",
    "history_df = pd.DataFrame(fit_mod.history, index=range(1,len(fit_mod.history[\"loss\"])+1))\n",
    "\n",
    "# Plot the loss\n",
    "history_df.plot(y=\"accuracy\")"
   ]
  },
  {
   "cell_type": "code",
   "execution_count": 36,
   "id": "ea560560",
   "metadata": {},
   "outputs": [
    {
     "data": {
      "text/plain": [
       "<AxesSubplot:>"
      ]
     },
     "execution_count": 36,
     "metadata": {},
     "output_type": "execute_result"
    },
    {
     "data": {
      "image/png": "[encoded data removed]",
      "text/plain": [
       "<Figure size 432x288 with 1 Axes>"
      ]
     },
     "metadata": {
      "needs_background": "light"
     },
     "output_type": "display_data"
    }
   ],
   "source": [
    "history_df.plot(y=\"loss\")"
   ]
  },
  {
   "cell_type": "markdown",
   "id": "89b780db",
   "metadata": {},
   "source": [
    "# Optimization Attempt 2\n",
    "Keep layer 3\n",
    "increase number of neurons\n",
    "Change second layer activation to \"sigmoid\""
   ]
  },
  {
   "cell_type": "code",
   "execution_count": 37,
   "id": "e81fae3e",
   "metadata": {},
   "outputs": [
    {
     "name": "stdout",
     "output_type": "stream",
     "text": [
      "Model: \"sequential_1\"\n",
      "_________________________________________________________________\n",
      "Layer (type)                 Output Shape              Param #   \n",
      "=================================================================\n",
      "dense_4 (Dense)              (None, 40)                8080      \n",
      "_________________________________________________________________\n",
      "dense_5 (Dense)              (None, 20)                820       \n",
      "_________________________________________________________________\n",
      "dense_6 (Dense)              (None, 20)                420       \n",
      "_________________________________________________________________\n",
      "dense_7 (Dense)              (None, 1)                 21        \n",
      "=================================================================\n",
      "Total params: 9,341\n",
      "Trainable params: 9,341\n",
      "Non-trainable params: 0\n",
      "_________________________________________________________________\n"
     ]
    }
   ],
   "source": [
    "# Define the model - deep neural net, i.e., the number of input features and hidden nodes for each layer.\n",
    "#  YOUR CODE GOES HERE\n",
    "number_input_features = len(X_train[0])\n",
    "hidden_nodes_layer1 =  40\n",
    "hidden_nodes_layer2 = 20\n",
    "hidden_nodes_layer3 = 20\n",
    "nn2 = tf.keras.models.Sequential()\n",
    "\n",
    "# First hidden layer\n",
    "#  YOUR CODE GOES HERE\n",
    "nn2.add(tf.keras.layers.Dense(units=hidden_nodes_layer1, input_dim=number_input_features, activation=\"sigmoid\"))\n",
    "# Second hidden layer\n",
    "#  YOUR CODE GOES HERE\n",
    "nn2.add(tf.keras.layers.Dense(units=hidden_nodes_layer2, activation=\"relu\"))\n",
    "#  YOUR CODE GOES HERE\n",
    "nn2.add(tf.keras.layers.Dense(units=hidden_nodes_layer3, activation=\"relu\"))\n",
    "# Output layer\n",
    "#  YOUR CODE GOES HERE\n",
    "nn2.add(tf.keras.layers.Dense(units=1, activation=\"sigmoid\"))\n",
    "# Check the structure of the model\n",
    "nn2.summary()"
   ]
  },
  {
   "cell_type": "code",
   "execution_count": 38,
   "id": "06f96765",
   "metadata": {},
   "outputs": [],
   "source": [
    "# Compile the model\n",
    "#  YOUR CODE GOES HERE\n",
    "nn2.compile(loss=\"binary_crossentropy\", optimizer=\"adam\", metrics=[\"accuracy\"])"
   ]
  },
  {
   "cell_type": "code",
   "execution_count": 39,
   "id": "da297ba8",
   "metadata": {},
   "outputs": [
    {
     "name": "stdout",
     "output_type": "stream",
     "text": [
      "Epoch 1/50\n",
      "644/644 [==============================] - 1s 1ms/step - loss: 0.6917 - accuracy: 0.5318 - val_loss: 0.6912 - val_accuracy: 0.5310\n",
      "\n",
      "Epoch 00001: saving model to checkpoints\\weights.01.hdf5\n",
      "Epoch 2/50\n",
      "644/644 [==============================] - 1s 943us/step - loss: 0.6913 - accuracy: 0.5324 - val_loss: 0.6940 - val_accuracy: 0.5310\n",
      "\n",
      "Epoch 00002: saving model to checkpoints\\weights.02.hdf5\n",
      "Epoch 3/50\n",
      "644/644 [==============================] - 1s 1ms/step - loss: 0.6912 - accuracy: 0.5324 - val_loss: 0.6914 - val_accuracy: 0.5310\n",
      "\n",
      "Epoch 00003: saving model to checkpoints\\weights.03.hdf5\n",
      "Epoch 4/50\n",
      "644/644 [==============================] - 1s 1ms/step - loss: 0.6913 - accuracy: 0.5324 - val_loss: 0.6912 - val_accuracy: 0.5310\n",
      "\n",
      "Epoch 00004: saving model to checkpoints\\weights.04.hdf5\n",
      "Epoch 5/50\n",
      "644/644 [==============================] - 1s 981us/step - loss: 0.6912 - accuracy: 0.5324 - val_loss: 0.6912 - val_accuracy: 0.5310\n",
      "\n",
      "Epoch 00005: saving model to checkpoints\\weights.05.hdf5\n",
      "Epoch 6/50\n",
      "644/644 [==============================] - 1s 1ms/step - loss: 0.6912 - accuracy: 0.5324 - val_loss: 0.6913 - val_accuracy: 0.5310\n",
      "\n",
      "Epoch 00006: saving model to checkpoints\\weights.06.hdf5\n",
      "Epoch 7/50\n",
      "644/644 [==============================] - 1s 945us/step - loss: 0.6912 - accuracy: 0.5324 - val_loss: 0.6913 - val_accuracy: 0.5310\n",
      "\n",
      "Epoch 00007: saving model to checkpoints\\weights.07.hdf5\n",
      "Epoch 8/50\n",
      "644/644 [==============================] - 1s 1ms/step - loss: 0.6912 - accuracy: 0.5324 - val_loss: 0.6913 - val_accuracy: 0.5310\n",
      "\n",
      "Epoch 00008: saving model to checkpoints\\weights.08.hdf5\n",
      "Epoch 9/50\n",
      "644/644 [==============================] - 1s 948us/step - loss: 0.6912 - accuracy: 0.5324 - val_loss: 0.6912 - val_accuracy: 0.5310\n",
      "\n",
      "Epoch 00009: saving model to checkpoints\\weights.09.hdf5\n",
      "Epoch 10/50\n",
      "644/644 [==============================] - 1s 1ms/step - loss: 0.6912 - accuracy: 0.5324 - val_loss: 0.6912 - val_accuracy: 0.5310\n",
      "\n",
      "Epoch 00010: saving model to checkpoints\\weights.10.hdf5\n",
      "Epoch 11/50\n",
      "644/644 [==============================] - 1s 1ms/step - loss: 0.6911 - accuracy: 0.5324 - val_loss: 0.6912 - val_accuracy: 0.5310\n",
      "\n",
      "Epoch 00011: saving model to checkpoints\\weights.11.hdf5\n",
      "Epoch 12/50\n",
      "644/644 [==============================] - 1s 1ms/step - loss: 0.6911 - accuracy: 0.5324 - val_loss: 0.6913 - val_accuracy: 0.5310\n",
      "\n",
      "Epoch 00012: saving model to checkpoints\\weights.12.hdf5\n",
      "Epoch 13/50\n",
      "644/644 [==============================] - 1s 1ms/step - loss: 0.6911 - accuracy: 0.5324 - val_loss: 0.6914 - val_accuracy: 0.5310\n",
      "\n",
      "Epoch 00013: saving model to checkpoints\\weights.13.hdf5\n",
      "Epoch 14/50\n",
      "644/644 [==============================] - 1s 1ms/step - loss: 0.6910 - accuracy: 0.5324 - val_loss: 0.6912 - val_accuracy: 0.5310\n",
      "\n",
      "Epoch 00014: saving model to checkpoints\\weights.14.hdf5\n",
      "Epoch 15/50\n",
      "644/644 [==============================] - 1s 1ms/step - loss: 0.6911 - accuracy: 0.5324 - val_loss: 0.6913 - val_accuracy: 0.5310\n",
      "\n",
      "Epoch 00015: saving model to checkpoints\\weights.15.hdf5\n",
      "Epoch 16/50\n",
      "644/644 [==============================] - 1s 1ms/step - loss: 0.6911 - accuracy: 0.5324 - val_loss: 0.6912 - val_accuracy: 0.5310\n",
      "\n",
      "Epoch 00016: saving model to checkpoints\\weights.16.hdf5\n",
      "Epoch 17/50\n",
      "644/644 [==============================] - 1s 993us/step - loss: 0.6911 - accuracy: 0.5324 - val_loss: 0.6913 - val_accuracy: 0.5310\n",
      "\n",
      "Epoch 00017: saving model to checkpoints\\weights.17.hdf5\n",
      "Epoch 18/50\n",
      "644/644 [==============================] - 1s 1ms/step - loss: 0.6911 - accuracy: 0.5324 - val_loss: 0.6912 - val_accuracy: 0.5310\n",
      "\n",
      "Epoch 00018: saving model to checkpoints\\weights.18.hdf5\n",
      "Epoch 19/50\n",
      "644/644 [==============================] - 1s 913us/step - loss: 0.6911 - accuracy: 0.5324 - val_loss: 0.6913 - val_accuracy: 0.5310\n",
      "\n",
      "Epoch 00019: saving model to checkpoints\\weights.19.hdf5\n",
      "Epoch 20/50\n",
      "644/644 [==============================] - 1s 1ms/step - loss: 0.6911 - accuracy: 0.5324 - val_loss: 0.6913 - val_accuracy: 0.5310\n",
      "\n",
      "Epoch 00020: saving model to checkpoints\\weights.20.hdf5\n",
      "Epoch 21/50\n",
      "644/644 [==============================] - 1s 907us/step - loss: 0.6911 - accuracy: 0.5324 - val_loss: 0.6913 - val_accuracy: 0.5310\n",
      "\n",
      "Epoch 00021: saving model to checkpoints\\weights.21.hdf5\n",
      "Epoch 22/50\n",
      "644/644 [==============================] - 1s 930us/step - loss: 0.6911 - accuracy: 0.5324 - val_loss: 0.6912 - val_accuracy: 0.5310\n",
      "\n",
      "Epoch 00022: saving model to checkpoints\\weights.22.hdf5\n",
      "Epoch 23/50\n",
      "644/644 [==============================] - 1s 905us/step - loss: 0.6911 - accuracy: 0.5324 - val_loss: 0.6913 - val_accuracy: 0.5310\n",
      "\n",
      "Epoch 00023: saving model to checkpoints\\weights.23.hdf5\n",
      "Epoch 24/50\n",
      "644/644 [==============================] - 1s 968us/step - loss: 0.6911 - accuracy: 0.5324 - val_loss: 0.6912 - val_accuracy: 0.5310\n",
      "\n",
      "Epoch 00024: saving model to checkpoints\\weights.24.hdf5\n",
      "Epoch 25/50\n",
      "644/644 [==============================] - 1s 962us/step - loss: 0.6911 - accuracy: 0.5324 - val_loss: 0.6912 - val_accuracy: 0.5310\n",
      "\n",
      "Epoch 00025: saving model to checkpoints\\weights.25.hdf5\n",
      "Epoch 26/50\n",
      "644/644 [==============================] - 1s 962us/step - loss: 0.6911 - accuracy: 0.5324 - val_loss: 0.6913 - val_accuracy: 0.5310\n",
      "\n",
      "Epoch 00026: saving model to checkpoints\\weights.26.hdf5\n",
      "Epoch 27/50\n",
      "644/644 [==============================] - 1s 963us/step - loss: 0.6911 - accuracy: 0.5324 - val_loss: 0.6912 - val_accuracy: 0.5310\n",
      "\n",
      "Epoch 00027: saving model to checkpoints\\weights.27.hdf5\n",
      "Epoch 28/50\n",
      "644/644 [==============================] - 1s 1ms/step - loss: 0.6911 - accuracy: 0.5324 - val_loss: 0.6913 - val_accuracy: 0.5310\n",
      "\n",
      "Epoch 00028: saving model to checkpoints\\weights.28.hdf5\n",
      "Epoch 29/50\n",
      "644/644 [==============================] - 1s 973us/step - loss: 0.6911 - accuracy: 0.5324 - val_loss: 0.6912 - val_accuracy: 0.5310\n",
      "\n",
      "Epoch 00029: saving model to checkpoints\\weights.29.hdf5\n",
      "Epoch 30/50\n",
      "644/644 [==============================] - 1s 991us/step - loss: 0.6911 - accuracy: 0.5324 - val_loss: 0.6912 - val_accuracy: 0.5310\n",
      "\n",
      "Epoch 00030: saving model to checkpoints\\weights.30.hdf5\n",
      "Epoch 31/50\n",
      "644/644 [==============================] - 1s 947us/step - loss: 0.6910 - accuracy: 0.5324 - val_loss: 0.6914 - val_accuracy: 0.5310\n",
      "\n",
      "Epoch 00031: saving model to checkpoints\\weights.31.hdf5\n",
      "Epoch 32/50\n",
      "644/644 [==============================] - 1s 1ms/step - loss: 0.6911 - accuracy: 0.5324 - val_loss: 0.6913 - val_accuracy: 0.5310\n",
      "\n",
      "Epoch 00032: saving model to checkpoints\\weights.32.hdf5\n",
      "Epoch 33/50\n",
      "644/644 [==============================] - 1s 939us/step - loss: 0.6911 - accuracy: 0.5324 - val_loss: 0.6912 - val_accuracy: 0.5310\n",
      "\n",
      "Epoch 00033: saving model to checkpoints\\weights.33.hdf5\n",
      "Epoch 34/50\n",
      "644/644 [==============================] - 1s 1ms/step - loss: 0.6911 - accuracy: 0.5324 - val_loss: 0.6912 - val_accuracy: 0.5310\n",
      "\n",
      "Epoch 00034: saving model to checkpoints\\weights.34.hdf5\n",
      "Epoch 35/50\n",
      "644/644 [==============================] - 1s 1ms/step - loss: 0.6911 - accuracy: 0.5324 - val_loss: 0.6912 - val_accuracy: 0.5310\n",
      "\n",
      "Epoch 00035: saving model to checkpoints\\weights.35.hdf5\n",
      "Epoch 36/50\n",
      "644/644 [==============================] - 1s 1ms/step - loss: 0.6911 - accuracy: 0.5324 - val_loss: 0.6912 - val_accuracy: 0.5310\n",
      "\n",
      "Epoch 00036: saving model to checkpoints\\weights.36.hdf5\n",
      "Epoch 37/50\n",
      "644/644 [==============================] - 1s 1ms/step - loss: 0.6911 - accuracy: 0.5324 - val_loss: 0.6912 - val_accuracy: 0.5310\n",
      "\n",
      "Epoch 00037: saving model to checkpoints\\weights.37.hdf5\n",
      "Epoch 38/50\n",
      "644/644 [==============================] - 1s 899us/step - loss: 0.6911 - accuracy: 0.5324 - val_loss: 0.6912 - val_accuracy: 0.5310\n",
      "\n",
      "Epoch 00038: saving model to checkpoints\\weights.38.hdf5\n",
      "Epoch 39/50\n",
      "644/644 [==============================] - 1s 1ms/step - loss: 0.6911 - accuracy: 0.5324 - val_loss: 0.6913 - val_accuracy: 0.5310\n",
      "\n",
      "Epoch 00039: saving model to checkpoints\\weights.39.hdf5\n",
      "Epoch 40/50\n",
      "644/644 [==============================] - 1s 987us/step - loss: 0.6911 - accuracy: 0.5324 - val_loss: 0.6912 - val_accuracy: 0.5310\n",
      "\n",
      "Epoch 00040: saving model to checkpoints\\weights.40.hdf5\n",
      "Epoch 41/50\n",
      "644/644 [==============================] - 1s 972us/step - loss: 0.6911 - accuracy: 0.5324 - val_loss: 0.6912 - val_accuracy: 0.5310\n"
     ]
    },
    {
     "name": "stdout",
     "output_type": "stream",
     "text": [
      "\n",
      "Epoch 00041: saving model to checkpoints\\weights.41.hdf5\n",
      "Epoch 42/50\n",
      "644/644 [==============================] - 1s 967us/step - loss: 0.6911 - accuracy: 0.5324 - val_loss: 0.6912 - val_accuracy: 0.5310\n",
      "\n",
      "Epoch 00042: saving model to checkpoints\\weights.42.hdf5\n",
      "Epoch 43/50\n",
      "644/644 [==============================] - 1s 1ms/step - loss: 0.6911 - accuracy: 0.5324 - val_loss: 0.6912 - val_accuracy: 0.5310\n",
      "\n",
      "Epoch 00043: saving model to checkpoints\\weights.43.hdf5\n",
      "Epoch 44/50\n",
      "644/644 [==============================] - 1s 943us/step - loss: 0.6911 - accuracy: 0.5324 - val_loss: 0.6912 - val_accuracy: 0.5310\n",
      "\n",
      "Epoch 00044: saving model to checkpoints\\weights.44.hdf5\n",
      "Epoch 45/50\n",
      "644/644 [==============================] - 1s 961us/step - loss: 0.6911 - accuracy: 0.5324 - val_loss: 0.6913 - val_accuracy: 0.5310\n",
      "\n",
      "Epoch 00045: saving model to checkpoints\\weights.45.hdf5\n",
      "Epoch 46/50\n",
      "644/644 [==============================] - 1s 982us/step - loss: 0.6911 - accuracy: 0.5324 - val_loss: 0.6912 - val_accuracy: 0.5310\n",
      "\n",
      "Epoch 00046: saving model to checkpoints\\weights.46.hdf5\n",
      "Epoch 47/50\n",
      "644/644 [==============================] - 1s 995us/step - loss: 0.6911 - accuracy: 0.5324 - val_loss: 0.6914 - val_accuracy: 0.5310\n",
      "\n",
      "Epoch 00047: saving model to checkpoints\\weights.47.hdf5\n",
      "Epoch 48/50\n",
      "644/644 [==============================] - 1s 1ms/step - loss: 0.6911 - accuracy: 0.5324 - val_loss: 0.6912 - val_accuracy: 0.5310\n",
      "\n",
      "Epoch 00048: saving model to checkpoints\\weights.48.hdf5\n",
      "Epoch 49/50\n",
      "644/644 [==============================] - 1s 947us/step - loss: 0.6910 - accuracy: 0.5324 - val_loss: 0.6914 - val_accuracy: 0.5310\n",
      "\n",
      "Epoch 00049: saving model to checkpoints\\weights.49.hdf5\n",
      "Epoch 50/50\n",
      "644/644 [==============================] - 1s 1ms/step - loss: 0.6911 - accuracy: 0.5324 - val_loss: 0.6912 - val_accuracy: 0.5310\n",
      "\n",
      "Epoch 00050: saving model to checkpoints\\weights.50.hdf5\n"
     ]
    }
   ],
   "source": [
    "# Train the model\n",
    "#  YOUR CODE GOES HERE\n",
    "fit_mod = nn2.fit(\n",
    "    X_train, y_train, epochs=50, callbacks=[cp_callback], validation_split=0.2\n",
    ")"
   ]
  },
  {
   "cell_type": "code",
   "execution_count": 40,
   "id": "c91badfd",
   "metadata": {},
   "outputs": [
    {
     "name": "stdout",
     "output_type": "stream",
     "text": [
      "268/268 - 0s - loss: 0.7025 - accuracy: 0.4417\n",
      "Loss: 0.7024994492530823, Accuracy: 0.4417492747306824\n"
     ]
    }
   ],
   "source": [
    "# Evaluate the model using the test data\n",
    "model_loss, model_accuracy = nn2.evaluate(X_test_scaled,y_test,verbose=2)\n",
    "print(f\"Loss: {model_loss}, Accuracy: {model_accuracy}\")"
   ]
  },
  {
   "cell_type": "code",
   "execution_count": 41,
   "id": "7f6d71a2",
   "metadata": {},
   "outputs": [
    {
     "data": {
      "text/plain": [
       "<AxesSubplot:>"
      ]
     },
     "execution_count": 41,
     "metadata": {},
     "output_type": "execute_result"
    },
    {
     "data": {
      "image/png": "[encoded data removed]",
      "text/plain": [
       "<Figure size 432x288 with 1 Axes>"
      ]
     },
     "metadata": {
      "needs_background": "light"
     },
     "output_type": "display_data"
    }
   ],
   "source": [
    "# Create a DataFrame containing training history\n",
    "history_df = pd.DataFrame(fit_mod.history, index=range(1,len(fit_mod.history[\"loss\"])+1))\n",
    "\n",
    "# Plot the loss\n",
    "history_df.plot(y=\"accuracy\")"
   ]
  },
  {
   "cell_type": "code",
   "execution_count": 42,
   "id": "bedf1377",
   "metadata": {},
   "outputs": [
    {
     "data": {
      "text/plain": [
       "<AxesSubplot:>"
      ]
     },
     "execution_count": 42,
     "metadata": {},
     "output_type": "execute_result"
    },
    {
     "data": {
      "image/png": "[encoded data removed]",
      "text/plain": [
       "<Figure size 432x288 with 1 Axes>"
      ]
     },
     "metadata": {
      "needs_background": "light"
     },
     "output_type": "display_data"
    }
   ],
   "source": [
    "\n",
    "history_df.plot(y=\"loss\")"
   ]
  },
  {
   "cell_type": "code",
   "execution_count": 43,
   "id": "49ee4768",
   "metadata": {},
   "outputs": [],
   "source": [
    "nn2.save('AlphabetSoupCharity-opt2.h5')"
   ]
  },
  {
   "cell_type": "markdown",
   "id": "38b1ddce",
   "metadata": {},
   "source": [
    "# Optimization Attempt 3\n",
    "Increase number of neurons further\n",
    "Remove layer 3\n",
    "Change the activation for layer 1 to \"relu\""
   ]
  },
  {
   "cell_type": "code",
   "execution_count": 44,
   "id": "c250219a",
   "metadata": {},
   "outputs": [
    {
     "name": "stdout",
     "output_type": "stream",
     "text": [
      "Model: \"sequential_2\"\n",
      "_________________________________________________________________\n",
      "Layer (type)                 Output Shape              Param #   \n",
      "=================================================================\n",
      "dense_8 (Dense)              (None, 100)               20200     \n",
      "_________________________________________________________________\n",
      "dense_9 (Dense)              (None, 80)                8080      \n",
      "_________________________________________________________________\n",
      "dense_10 (Dense)             (None, 1)                 81        \n",
      "=================================================================\n",
      "Total params: 28,361\n",
      "Trainable params: 28,361\n",
      "Non-trainable params: 0\n",
      "_________________________________________________________________\n"
     ]
    }
   ],
   "source": [
    "# Define the model - deep neural net, i.e., the number of input features and hidden nodes for each layer.\n",
    "#  YOUR CODE GOES HERE\n",
    "number_input_features = len(X_train[0])\n",
    "hidden_nodes_layer1 = 100\n",
    "hidden_nodes_layer2 = 80\n",
    "nn3 = tf.keras.models.Sequential()\n",
    "\n",
    "# First hidden layer\n",
    "#  YOUR CODE GOES HERE\n",
    "nn3.add(tf.keras.layers.Dense(units=hidden_nodes_layer1, input_dim=number_input_features, activation=\"relu\"))\n",
    "# Second hidden layer\n",
    "#  YOUR CODE GOES HERE\n",
    "nn3.add(tf.keras.layers.Dense(units=hidden_nodes_layer2, activation=\"relu\"))\n",
    "# Output layer\n",
    "#  YOUR CODE GOES HERE\n",
    "nn3.add(tf.keras.layers.Dense(units=1, activation=\"sigmoid\"))\n",
    "# Check the structure of the model\n",
    "nn3.summary()"
   ]
  },
  {
   "cell_type": "code",
   "execution_count": 45,
   "id": "8d806b0c",
   "metadata": {},
   "outputs": [],
   "source": [
    "# Compile the model\n",
    "#  YOUR CODE GOES HERE\n",
    "nn3.compile(loss=\"binary_crossentropy\", optimizer=\"adam\", metrics=[\"accuracy\"])"
   ]
  },
  {
   "cell_type": "code",
   "execution_count": 46,
   "id": "4cab7a71",
   "metadata": {},
   "outputs": [
    {
     "name": "stdout",
     "output_type": "stream",
     "text": [
      "Epoch 1/50\n",
      "644/644 [==============================] - 1s 2ms/step - loss: 59497.2422 - accuracy: 0.4857 - val_loss: 21071.2637 - val_accuracy: 0.5310\n",
      "\n",
      "Epoch 00001: saving model to checkpoints\\weights.01.hdf5\n",
      "Epoch 2/50\n",
      "644/644 [==============================] - 1s 2ms/step - loss: 80542.8281 - accuracy: 0.5026 - val_loss: 18080.0039 - val_accuracy: 0.4690\n",
      "\n",
      "Epoch 00002: saving model to checkpoints\\weights.02.hdf5\n",
      "Epoch 3/50\n",
      "644/644 [==============================] - 1s 1ms/step - loss: 49128.7891 - accuracy: 0.5301 - val_loss: 8072.2734 - val_accuracy: 0.4690\n",
      "\n",
      "Epoch 00003: saving model to checkpoints\\weights.03.hdf5\n",
      "Epoch 4/50\n",
      "644/644 [==============================] - 1s 1ms/step - loss: 23585.8828 - accuracy: 0.5034 - val_loss: 17864.9551 - val_accuracy: 0.4690\n",
      "\n",
      "Epoch 00004: saving model to checkpoints\\weights.04.hdf5\n",
      "Epoch 5/50\n",
      "644/644 [==============================] - 1s 1ms/step - loss: 14915.4521 - accuracy: 0.5173 - val_loss: 855.1783 - val_accuracy: 0.6241\n",
      "\n",
      "Epoch 00005: saving model to checkpoints\\weights.05.hdf5\n",
      "Epoch 6/50\n",
      "644/644 [==============================] - 1s 1ms/step - loss: 7908.7217 - accuracy: 0.4970 - val_loss: 2052.2913 - val_accuracy: 0.4690\n",
      "\n",
      "Epoch 00006: saving model to checkpoints\\weights.06.hdf5\n",
      "Epoch 7/50\n",
      "644/644 [==============================] - 1s 1ms/step - loss: 935.7180 - accuracy: 0.5265 - val_loss: 304.9850 - val_accuracy: 0.5965\n",
      "\n",
      "Epoch 00007: saving model to checkpoints\\weights.07.hdf5\n",
      "Epoch 8/50\n",
      "644/644 [==============================] - 1s 990us/step - loss: 3240.6108 - accuracy: 0.5048 - val_loss: 7315.9858 - val_accuracy: 0.5310\n",
      "\n",
      "Epoch 00008: saving model to checkpoints\\weights.08.hdf5\n",
      "Epoch 9/50\n",
      "644/644 [==============================] - 1s 1ms/step - loss: 700.9703 - accuracy: 0.5171 - val_loss: 0.6847 - val_accuracy: 0.5310\n",
      "\n",
      "Epoch 00009: saving model to checkpoints\\weights.09.hdf5\n",
      "Epoch 10/50\n",
      "644/644 [==============================] - 1s 1ms/step - loss: 0.6399 - accuracy: 0.6231 - val_loss: 0.6302 - val_accuracy: 0.6492\n",
      "\n",
      "Epoch 00010: saving model to checkpoints\\weights.10.hdf5\n",
      "Epoch 11/50\n",
      "644/644 [==============================] - 1s 989us/step - loss: 0.6233 - accuracy: 0.6632 - val_loss: 0.6245 - val_accuracy: 0.6601\n",
      "\n",
      "Epoch 00011: saving model to checkpoints\\weights.11.hdf5\n",
      "Epoch 12/50\n",
      "644/644 [==============================] - 1s 1ms/step - loss: 0.6289 - accuracy: 0.6590 - val_loss: 0.6334 - val_accuracy: 0.6441\n",
      "\n",
      "Epoch 00012: saving model to checkpoints\\weights.12.hdf5\n",
      "Epoch 13/50\n",
      "644/644 [==============================] - 1s 1ms/step - loss: 0.6285 - accuracy: 0.6521 - val_loss: 0.6282 - val_accuracy: 0.6540\n",
      "\n",
      "Epoch 00013: saving model to checkpoints\\weights.13.hdf5\n",
      "Epoch 14/50\n",
      "644/644 [==============================] - 1s 963us/step - loss: 0.6253 - accuracy: 0.6576 - val_loss: 0.6249 - val_accuracy: 0.6610\n",
      "\n",
      "Epoch 00014: saving model to checkpoints\\weights.14.hdf5\n",
      "Epoch 15/50\n",
      "644/644 [==============================] - 1s 988us/step - loss: 0.6214 - accuracy: 0.6672 - val_loss: 0.6278 - val_accuracy: 0.6538\n",
      "\n",
      "Epoch 00015: saving model to checkpoints\\weights.15.hdf5\n",
      "Epoch 16/50\n",
      "644/644 [==============================] - 1s 1ms/step - loss: 0.6231 - accuracy: 0.6626 - val_loss: 0.6173 - val_accuracy: 0.6709\n",
      "\n",
      "Epoch 00016: saving model to checkpoints\\weights.16.hdf5\n",
      "Epoch 17/50\n",
      "644/644 [==============================] - 1s 961us/step - loss: 0.6370 - accuracy: 0.6373 - val_loss: 0.6912 - val_accuracy: 0.5310\n",
      "\n",
      "Epoch 00017: saving model to checkpoints\\weights.17.hdf5\n",
      "Epoch 18/50\n",
      "644/644 [==============================] - 1s 1ms/step - loss: 0.6913 - accuracy: 0.5324 - val_loss: 0.6913 - val_accuracy: 0.5310\n",
      "\n",
      "Epoch 00018: saving model to checkpoints\\weights.18.hdf5\n",
      "Epoch 19/50\n",
      "644/644 [==============================] - 1s 1ms/step - loss: 0.6911 - accuracy: 0.5324 - val_loss: 0.6918 - val_accuracy: 0.5310\n",
      "\n",
      "Epoch 00019: saving model to checkpoints\\weights.19.hdf5\n",
      "Epoch 20/50\n",
      "644/644 [==============================] - 1s 1ms/step - loss: 0.6913 - accuracy: 0.5324 - val_loss: 0.6915 - val_accuracy: 0.5310\n",
      "\n",
      "Epoch 00020: saving model to checkpoints\\weights.20.hdf5\n",
      "Epoch 21/50\n",
      "644/644 [==============================] - 1s 1ms/step - loss: 0.6913 - accuracy: 0.5324 - val_loss: 0.6912 - val_accuracy: 0.5310\n",
      "\n",
      "Epoch 00021: saving model to checkpoints\\weights.21.hdf5\n",
      "Epoch 22/50\n",
      "644/644 [==============================] - 1s 1ms/step - loss: 0.6913 - accuracy: 0.5324 - val_loss: 0.6913 - val_accuracy: 0.5310\n",
      "\n",
      "Epoch 00022: saving model to checkpoints\\weights.22.hdf5\n",
      "Epoch 23/50\n",
      "644/644 [==============================] - 1s 1ms/step - loss: 0.6913 - accuracy: 0.5324 - val_loss: 0.6912 - val_accuracy: 0.5310\n",
      "\n",
      "Epoch 00023: saving model to checkpoints\\weights.23.hdf5\n",
      "Epoch 24/50\n",
      "644/644 [==============================] - 1s 1ms/step - loss: 0.6913 - accuracy: 0.5324 - val_loss: 0.6912 - val_accuracy: 0.5310\n",
      "\n",
      "Epoch 00024: saving model to checkpoints\\weights.24.hdf5\n",
      "Epoch 25/50\n",
      "644/644 [==============================] - 1s 1ms/step - loss: 0.6912 - accuracy: 0.5324 - val_loss: 0.6913 - val_accuracy: 0.5310\n",
      "\n",
      "Epoch 00025: saving model to checkpoints\\weights.25.hdf5\n",
      "Epoch 26/50\n",
      "644/644 [==============================] - 1s 1ms/step - loss: 0.6912 - accuracy: 0.5324 - val_loss: 0.6912 - val_accuracy: 0.5310\n",
      "\n",
      "Epoch 00026: saving model to checkpoints\\weights.26.hdf5\n",
      "Epoch 27/50\n",
      "644/644 [==============================] - 1s 1ms/step - loss: 0.6913 - accuracy: 0.5324 - val_loss: 0.6913 - val_accuracy: 0.5310\n",
      "\n",
      "Epoch 00027: saving model to checkpoints\\weights.27.hdf5\n",
      "Epoch 28/50\n",
      "644/644 [==============================] - 1s 1ms/step - loss: 0.6912 - accuracy: 0.5324 - val_loss: 0.6914 - val_accuracy: 0.5310\n",
      "\n",
      "Epoch 00028: saving model to checkpoints\\weights.28.hdf5\n",
      "Epoch 29/50\n",
      "644/644 [==============================] - 1s 949us/step - loss: 0.6913 - accuracy: 0.5324 - val_loss: 0.6912 - val_accuracy: 0.5310\n",
      "\n",
      "Epoch 00029: saving model to checkpoints\\weights.29.hdf5\n",
      "Epoch 30/50\n",
      "644/644 [==============================] - 1s 1ms/step - loss: 0.6913 - accuracy: 0.5324 - val_loss: 0.6917 - val_accuracy: 0.5310\n",
      "\n",
      "Epoch 00030: saving model to checkpoints\\weights.30.hdf5\n",
      "Epoch 31/50\n",
      "644/644 [==============================] - 1s 969us/step - loss: 0.6912 - accuracy: 0.5324 - val_loss: 0.6916 - val_accuracy: 0.5310\n",
      "\n",
      "Epoch 00031: saving model to checkpoints\\weights.31.hdf5\n",
      "Epoch 32/50\n",
      "644/644 [==============================] - 1s 988us/step - loss: 0.6913 - accuracy: 0.5324 - val_loss: 0.6913 - val_accuracy: 0.5310\n",
      "\n",
      "Epoch 00032: saving model to checkpoints\\weights.32.hdf5\n",
      "Epoch 33/50\n",
      "644/644 [==============================] - 1s 1ms/step - loss: 0.6913 - accuracy: 0.5324 - val_loss: 0.6912 - val_accuracy: 0.5310\n",
      "\n",
      "Epoch 00033: saving model to checkpoints\\weights.33.hdf5\n",
      "Epoch 34/50\n",
      "644/644 [==============================] - 1s 961us/step - loss: 0.6912 - accuracy: 0.5324 - val_loss: 0.6913 - val_accuracy: 0.5310\n",
      "\n",
      "Epoch 00034: saving model to checkpoints\\weights.34.hdf5\n",
      "Epoch 35/50\n",
      "644/644 [==============================] - 1s 995us/step - loss: 0.6912 - accuracy: 0.5324 - val_loss: 0.6912 - val_accuracy: 0.5310\n",
      "\n",
      "Epoch 00035: saving model to checkpoints\\weights.35.hdf5\n",
      "Epoch 36/50\n",
      "644/644 [==============================] - 1s 1ms/step - loss: 0.6912 - accuracy: 0.5324 - val_loss: 0.6914 - val_accuracy: 0.5310\n",
      "\n",
      "Epoch 00036: saving model to checkpoints\\weights.36.hdf5\n",
      "Epoch 37/50\n",
      "644/644 [==============================] - 1s 929us/step - loss: 0.6913 - accuracy: 0.5324 - val_loss: 0.6917 - val_accuracy: 0.5310\n",
      "\n",
      "Epoch 00037: saving model to checkpoints\\weights.37.hdf5\n",
      "Epoch 38/50\n",
      "644/644 [==============================] - 1s 980us/step - loss: 0.6914 - accuracy: 0.5324 - val_loss: 0.6912 - val_accuracy: 0.5310\n",
      "\n",
      "Epoch 00038: saving model to checkpoints\\weights.38.hdf5\n",
      "Epoch 39/50\n",
      "644/644 [==============================] - 1s 958us/step - loss: 0.6913 - accuracy: 0.5324 - val_loss: 0.6916 - val_accuracy: 0.5310\n",
      "\n",
      "Epoch 00039: saving model to checkpoints\\weights.39.hdf5\n",
      "Epoch 40/50\n",
      "644/644 [==============================] - 1s 956us/step - loss: 0.6914 - accuracy: 0.5324 - val_loss: 0.6912 - val_accuracy: 0.5310\n",
      "\n",
      "Epoch 00040: saving model to checkpoints\\weights.40.hdf5\n",
      "Epoch 41/50\n"
     ]
    },
    {
     "name": "stdout",
     "output_type": "stream",
     "text": [
      "644/644 [==============================] - 1s 923us/step - loss: 0.6914 - accuracy: 0.5324 - val_loss: 0.6913 - val_accuracy: 0.5310\n",
      "\n",
      "Epoch 00041: saving model to checkpoints\\weights.41.hdf5\n",
      "Epoch 42/50\n",
      "644/644 [==============================] - 1s 957us/step - loss: 0.6913 - accuracy: 0.5324 - val_loss: 0.6912 - val_accuracy: 0.5310\n",
      "\n",
      "Epoch 00042: saving model to checkpoints\\weights.42.hdf5\n",
      "Epoch 43/50\n",
      "644/644 [==============================] - 1s 923us/step - loss: 0.6912 - accuracy: 0.5324 - val_loss: 0.6914 - val_accuracy: 0.5310\n",
      "\n",
      "Epoch 00043: saving model to checkpoints\\weights.43.hdf5\n",
      "Epoch 44/50\n",
      "644/644 [==============================] - 1s 971us/step - loss: 0.6913 - accuracy: 0.5324 - val_loss: 0.6912 - val_accuracy: 0.5310\n",
      "\n",
      "Epoch 00044: saving model to checkpoints\\weights.44.hdf5\n",
      "Epoch 45/50\n",
      "644/644 [==============================] - 1s 961us/step - loss: 0.6913 - accuracy: 0.5324 - val_loss: 0.6912 - val_accuracy: 0.5310\n",
      "\n",
      "Epoch 00045: saving model to checkpoints\\weights.45.hdf5\n",
      "Epoch 46/50\n",
      "644/644 [==============================] - 1s 952us/step - loss: 0.6913 - accuracy: 0.5324 - val_loss: 0.6912 - val_accuracy: 0.5310\n",
      "\n",
      "Epoch 00046: saving model to checkpoints\\weights.46.hdf5\n",
      "Epoch 47/50\n",
      "644/644 [==============================] - 1s 1ms/step - loss: 0.6913 - accuracy: 0.5324 - val_loss: 0.6918 - val_accuracy: 0.5310\n",
      "\n",
      "Epoch 00047: saving model to checkpoints\\weights.47.hdf5\n",
      "Epoch 48/50\n",
      "644/644 [==============================] - 1s 955us/step - loss: 0.6913 - accuracy: 0.5324 - val_loss: 0.6915 - val_accuracy: 0.5310\n",
      "\n",
      "Epoch 00048: saving model to checkpoints\\weights.48.hdf5\n",
      "Epoch 49/50\n",
      "644/644 [==============================] - 1s 955us/step - loss: 0.6913 - accuracy: 0.5324 - val_loss: 0.6913 - val_accuracy: 0.5310\n",
      "\n",
      "Epoch 00049: saving model to checkpoints\\weights.49.hdf5\n",
      "Epoch 50/50\n",
      "644/644 [==============================] - 1s 975us/step - loss: 0.6913 - accuracy: 0.5324 - val_loss: 0.6915 - val_accuracy: 0.5310\n",
      "\n",
      "Epoch 00050: saving model to checkpoints\\weights.50.hdf5\n"
     ]
    }
   ],
   "source": [
    "# Train the model\n",
    "#  YOUR CODE GOES HERE\n",
    "fit_mod = nn3.fit(\n",
    "    X_train, y_train, epochs=50, callbacks=[cp_callback], validation_split=0.2\n",
    ")"
   ]
  },
  {
   "cell_type": "code",
   "execution_count": 47,
   "id": "8ed46f3a",
   "metadata": {},
   "outputs": [
    {
     "name": "stdout",
     "output_type": "stream",
     "text": [
      "268/268 - 0s - loss: 1.7447 - accuracy: 0.6553\n",
      "Loss: 1.744721531867981, Accuracy: 0.6552769541740417\n"
     ]
    }
   ],
   "source": [
    "# Evaluate the model using the test data\n",
    "model_loss, model_accuracy = nn3.evaluate(X_test_scaled,y_test,verbose=2)\n",
    "print(f\"Loss: {model_loss}, Accuracy: {model_accuracy}\")"
   ]
  },
  {
   "cell_type": "code",
   "execution_count": 48,
   "id": "056de784",
   "metadata": {},
   "outputs": [
    {
     "data": {
      "text/plain": [
       "<AxesSubplot:>"
      ]
     },
     "execution_count": 48,
     "metadata": {},
     "output_type": "execute_result"
    },
    {
     "data": {
      "image/png": "[encoded data removed]",
      "text/plain": [
       "<Figure size 432x288 with 1 Axes>"
      ]
     },
     "metadata": {
      "needs_background": "light"
     },
     "output_type": "display_data"
    }
   ],
   "source": [
    "# Create a DataFrame containing training history\n",
    "history_df = pd.DataFrame(fit_mod.history, index=range(1,len(fit_mod.history[\"loss\"])+1))\n",
    "\n",
    "# Plot the loss\n",
    "history_df.plot(y=\"accuracy\")"
   ]
  },
  {
   "cell_type": "code",
   "execution_count": 49,
   "id": "c8a5b6c6",
   "metadata": {},
   "outputs": [
    {
     "data": {
      "text/plain": [
       "<AxesSubplot:>"
      ]
     },
     "execution_count": 49,
     "metadata": {},
     "output_type": "execute_result"
    },
    {
     "data": {
      "image/png": "[encoded data removed]",
      "text/plain": [
       "<Figure size 432x288 with 1 Axes>"
      ]
     },
     "metadata": {
      "needs_background": "light"
     },
     "output_type": "display_data"
    }
   ],
   "source": [
    "history_df.plot(y=\"loss\")"
   ]
  },
  {
   "cell_type": "code",
   "execution_count": 50,
   "id": "66ecf622",
   "metadata": {},
   "outputs": [],
   "source": [
    "nn3.save('AlphabetSoupCharity-opt3.h5')"
   ]
  }
 ],
 "metadata": {
  "kernelspec": {
   "display_name": "PythonData",
   "language": "python",
   "name": "pythondata"
  },
  "language_info": {
   "codemirror_mode": {
    "name": "ipython",
    "version": 3
   },
   "file_extension": ".py",
   "mimetype": "text/x-python",
   "name": "python",
   "nbconvert_exporter": "python",
   "pygments_lexer": "ipython3",
   "version": "3.6.13"
  }
 },
 "nbformat": 4,
 "nbformat_minor": 5
}
